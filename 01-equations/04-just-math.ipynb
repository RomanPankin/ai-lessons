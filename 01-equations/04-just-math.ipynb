{
 "cells": [
  {
   "cell_type": "markdown",
   "id": "fe32fc24-4d51-40b3-9f3a-d1bead488411",
   "metadata": {},
   "source": [
    "# Lesson 01. Part 4. Universal linear equation\n",
    "\n",
    "Let's try to build a universal linear equation: ```y = kx + b```. The thing is that we don't need to train a neaural network for this. It's much easier to achieve it with a simple math. How can we do this?\n",
    "\n",
    "```k``` parameter in the equation is a slope or how the difference in change in ```y``` relates to the change in difference of ```x```. Between 2 points, the formula is: ```k = (y1-y2)/(x1-x2)```. If we have more than 1 point, then the result ```k(result)``` is the average value of all ```k(i)```.\n",
    "\n",
    "We can simplify this formula and count slopes between 2 nearest points, then calculate its average value:\n",
    "\n",
    "```k = ((y1-y2)/(x1-x2) + (y2-y3)/(x2-x3) + ... (y(n-1)-y(n))/(x(n-1)-x(n))) / N ```\n",
    "\n",
    "Let's try how it works"
   ]
  },
  {
   "cell_type": "markdown",
   "id": "2799aa6f-ffe4-4a26-8510-0da420884def",
   "metadata": {},
   "source": [
    "## Preparation"
   ]
  },
  {
   "cell_type": "code",
   "execution_count": 465,
   "id": "269d837b-8b16-46f2-9371-95425308dd4c",
   "metadata": {},
   "outputs": [],
   "source": [
    "import torch\n",
    "import matplotlib.pyplot as plt\n",
    "import random\n",
    "from tqdm import tqdm"
   ]
  },
  {
   "cell_type": "code",
   "execution_count": 466,
   "id": "f72a1cf4-83b4-4cc6-bf21-503e3c3432c4",
   "metadata": {},
   "outputs": [
    {
     "name": "stdout",
     "output_type": "stream",
     "text": [
      "mps device is used\n"
     ]
    }
   ],
   "source": [
    "# get device for training (cpu, cuda or mps)\n",
    "device = (\n",
    "    \"cuda\"\n",
    "    if torch.cuda.is_available()\n",
    "    else \"mps\"\n",
    "    if torch.backends.mps.is_available()\n",
    "    else \"cpu\"\n",
    ")\n",
    "print(f\"{device} device is used\")"
   ]
  },
  {
   "cell_type": "code",
   "execution_count": 467,
   "id": "4b903d63-fe10-421f-8ebd-50d7bdfdde72",
   "metadata": {},
   "outputs": [],
   "source": [
    "# display settings\n",
    "torch.set_printoptions(precision=2, sci_mode=False)"
   ]
  },
  {
   "cell_type": "markdown",
   "id": "13974c7a-7ed5-4f47-98a2-b4b11ba071e6",
   "metadata": {},
   "source": [
    "## Sample data\n",
    "\n",
    "The input for our model will be a set of ```(x,y)``` points. As a result, it needs to calculate and return ```k``` and ```b``` values from the equation ```y = kx + b```\n",
    "\n",
    "Let's create some helper-functions to generate sample data"
   ]
  },
  {
   "cell_type": "code",
   "execution_count": 468,
   "id": "5d235e81-39b4-404c-95c3-48eb3ced9343",
   "metadata": {},
   "outputs": [],
   "source": [
    "# let's create a function to calculate y for the equation y = kx + b\n",
    "def calculate_y(x, k, b, bias):\n",
    "    y = k * x + b + bias * random.random()\n",
    "    return y\n",
    "\n",
    "def generate_random_value(min_value, max_value):\n",
    "    return random.random() * (max_value - min_value) + min_value\n",
    "\n",
    "def generate_linear_values(x_min, x_max, amount, k, b, bias=0):\n",
    "    x = torch.rand(amount) * (x_max - x_min) + x_min\n",
    "    y = x.clone().apply_(lambda x: calculate_y(x=x, k=k, b=b, bias=bias))\n",
    "    return (x,y)"
   ]
  },
  {
   "cell_type": "markdown",
   "id": "b128fbb6-738d-491b-861e-01c277637d1b",
   "metadata": {},
   "source": [
    "Let's check how functions above work"
   ]
  },
  {
   "cell_type": "code",
   "execution_count": 469,
   "id": "70c2e2f4-31df-49f0-a7ee-32bc59175a3a",
   "metadata": {},
   "outputs": [
    {
     "name": "stdout",
     "output_type": "stream",
     "text": [
      "k =  -7.086614897917394\n",
      "b =  -0.9014599097195735\n",
      "x =  tensor([-7.77,  6.32, -4.75, -0.32,  3.53,  5.08, -4.75, -9.14, -5.84, -7.64,\n",
      "        -7.57,  4.71,  4.24,  5.75, -1.63,  8.03])\n",
      "y =  tensor([ 54.14, -45.67,  32.75,   1.38, -25.92, -36.89,  32.73,  63.89,  40.48,\n",
      "         53.23,  52.72, -34.29, -30.92, -41.66,  10.68, -57.79])\n"
     ]
    },
    {
     "data": {
      "image/png": "[encoded data removed]",
      "text/plain": [
       "<Figure size 640x480 with 1 Axes>"
      ]
     },
     "metadata": {},
     "output_type": "display_data"
    }
   ],
   "source": [
    "# settings\n",
    "model_input_points = 16\n",
    "\n",
    "min_x = -10\n",
    "max_x = 10\n",
    "\n",
    "min_k = -10\n",
    "max_k = 10\n",
    "\n",
    "min_b = -10\n",
    "max_b = 10\n",
    "\n",
    "# generation\n",
    "random.seed(100)         # fix random values (debug only)\n",
    "torch.manual_seed(100)   # fix random values (debug only)\n",
    "\n",
    "k = generate_random_value(min_k, max_k)\n",
    "b = generate_random_value(min_b, max_b)\n",
    "\n",
    "(x,y) = generate_linear_values(\n",
    "    x_min=min_x,\n",
    "    x_max=max_x,\n",
    "    amount=model_input_points,\n",
    "    k=k,\n",
    "    b=b,\n",
    ")\n",
    "\n",
    "print('k = ', k)\n",
    "print('b = ', b)\n",
    "print('x = ', x)\n",
    "print('y = ', y)\n",
    "\n",
    "plt.plot(x, y)\n",
    "plt.scatter(x, y, label='data sample for y={:.2f}*x + {:.2f}'.format(k, b))\n",
    "plt.legend()\n",
    "plt.show()"
   ]
  },
  {
   "cell_type": "markdown",
   "id": "570fbe9c-c93b-42ee-a07d-7927d5bf021b",
   "metadata": {},
   "source": [
    "## Let's do some math\n",
    "\n",
    "At this point of time we have a list of points. Let's try to calculate the slope ```k``` and and shift ```b``` based on these points"
   ]
  },
  {
   "cell_type": "code",
   "execution_count": 470,
   "id": "39094002-f3b5-493b-9f7f-bd53b90ad3d8",
   "metadata": {},
   "outputs": [
    {
     "name": "stdout",
     "output_type": "stream",
     "text": [
      "calculated_k =  tensor(-7.09)\n"
     ]
    }
   ],
   "source": [
    "def calculate_slope(x,y):\n",
    "    x_difference = x - torch.full((1, len(x)), x[0].item())\n",
    "    y_difference = y - torch.full((1, len(y)), y[0].item())\n",
    "\n",
    "    slopes = y_difference / x_difference\n",
    "    calculated_k = torch.nanmean(slopes)\n",
    "\n",
    "    return calculated_k\n",
    "\n",
    "calculated_k = calculate_slope(x,y)\n",
    "print('calculated_k = ', calculated_k)"
   ]
  },
  {
   "cell_type": "markdown",
   "id": "af2afe1c-e7e9-4d73-91a2-deddbc681821",
   "metadata": {},
   "source": [
    "Knowing ```k``` we can easily calculate ```b``` using formula ```b = y - kx```"
   ]
  },
  {
   "cell_type": "code",
   "execution_count": 471,
   "id": "1fd195ed-9e52-4835-aef7-829076fe1e4c",
   "metadata": {},
   "outputs": [
    {
     "name": "stdout",
     "output_type": "stream",
     "text": [
      "calculated_b =  tensor(-0.90)\n"
     ]
    }
   ],
   "source": [
    "def calculate_shift(x,y,k):\n",
    "    b_values = y - torch.full((1, len(x)), k.item()) * x\n",
    "    calculated_b = torch.mean(b_values)\n",
    "\n",
    "    return calculated_b\n",
    "\n",
    "calculated_b = calculate_shift(x,y,calculated_k)\n",
    "print('calculated_b = ', calculated_b)"
   ]
  },
  {
   "cell_type": "markdown",
   "id": "4937ad1a-307b-429c-8b89-a9250449f354",
   "metadata": {},
   "source": [
    "It can be seen that both ```k``` and ```b``` values are calculated properly using only math. The total function to calculate this values will be:"
   ]
  },
  {
   "cell_type": "code",
   "execution_count": 472,
   "id": "71347fd8-dc87-4fab-b35e-c31c95a787ed",
   "metadata": {},
   "outputs": [],
   "source": [
    "def calculate_linear_params(x,y):\n",
    "    k = calculate_slope(x,y)\n",
    "    b = calculate_shift(x,y,k)\n",
    "\n",
    "    return (k,b)"
   ]
  },
  {
   "cell_type": "code",
   "execution_count": 473,
   "id": "f5a5f9c1-370d-44bd-9fa7-6224357b9083",
   "metadata": {},
   "outputs": [
    {
     "data": {
      "text/plain": [
       "(tensor(-7.09), tensor(-0.90))"
      ]
     },
     "execution_count": 473,
     "metadata": {},
     "output_type": "execute_result"
    }
   ],
   "source": [
    "calculate_linear_params(x,y)"
   ]
  },
  {
   "cell_type": "markdown",
   "id": "101142f3-9fea-48de-9e0e-999ebab3ce26",
   "metadata": {},
   "source": [
    "## Let's apply this function for other datasets"
   ]
  },
  {
   "cell_type": "code",
   "execution_count": 474,
   "id": "c602c7d1-b460-4af2-8728-51088ae81c7b",
   "metadata": {},
   "outputs": [
    {
     "name": "stdout",
     "output_type": "stream",
     "text": [
      "calculated (k,b) (tensor(1.88), tensor(-0.60))\n"
     ]
    },
    {
     "data": {
      "image/png": "[encoded data removed]",
      "text/plain": [
       "<Figure size 640x480 with 1 Axes>"
      ]
     },
     "metadata": {},
     "output_type": "display_data"
    }
   ],
   "source": [
    "random.seed(200)         # fix random values (debug only)\n",
    "torch.manual_seed(200)   # fix random values (debug only)\n",
    "\n",
    "(test_x, test_y) = generate_linear_values(\n",
    "    x_min=min_x,\n",
    "    x_max=max_x,\n",
    "    amount=model_input_points,\n",
    "    k=2,\n",
    "    b=-1.5,\n",
    "    bias=2\n",
    ")\n",
    "\n",
    "(result_k, result_b) = calculate_linear_params(test_x, test_y)\n",
    "print('calculated (k,b)', (result_k, result_b))\n",
    "\n",
    "plt.plot(\n",
    "    test_x,\n",
    "    test_x.clone().apply_(lambda x: result_k * x + result_b),\n",
    "    color='orange'\n",
    ")\n",
    "plt.scatter(test_x, test_y)\n",
    "plt.show()"
   ]
  },
  {
   "cell_type": "markdown",
   "id": "7913469a-da96-4562-991d-e6c78d479c35",
   "metadata": {},
   "source": [
    "Everything works!!!"
   ]
  }
 ],
 "metadata": {
  "kernelspec": {
   "display_name": "Python 3 (ipykernel)",
   "language": "python",
   "name": "python3"
  },
  "language_info": {
   "codemirror_mode": {
    "name": "ipython",
    "version": 3
   },
   "file_extension": ".py",
   "mimetype": "text/x-python",
   "name": "python",
   "nbconvert_exporter": "python",
   "pygments_lexer": "ipython3",
   "version": "3.11.5"
  }
 },
 "nbformat": 4,
 "nbformat_minor": 5
}
