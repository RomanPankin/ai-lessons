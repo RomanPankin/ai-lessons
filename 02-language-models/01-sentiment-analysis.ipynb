{
 "cells": [
  {
   "cell_type": "markdown",
   "id": "852d639a-eabc-4187-a75c-cd96b6ee3ef9",
   "metadata": {},
   "source": [
    "# Tutorial 02-01. Simple sentiment analysis - 90% accuracy"
   ]
  },
  {
   "cell_type": "markdown",
   "id": "6b9b8bcc-e485-4c50-a7b1-925d1af8d7fa",
   "metadata": {},
   "source": [
    "## A bit of theory"
   ]
  },
  {
   "cell_type": "markdown",
   "id": "d8df7816-d577-4a3b-ba7c-8e4b8b8eaa90",
   "metadata": {},
   "source": [
    "### Task statement"
   ]
  },
  {
   "cell_type": "markdown",
   "id": "437a05c1-a56d-4e29-9c72-b7e1a731a202",
   "metadata": {},
   "source": [
    "In this tutorial we will try to create a model that can classify text into 2 categories:\n",
    "* positive\n",
    "* negative\n",
    "\n",
    "There are 2 possible types of classification - **binary classification** and **multi-class classification**. Binary classification can only spread input values into two categories. However, multi-class classification can extend to several classes.\n",
    "\n",
    "To make our model universal, we will use a **multi-class classification** approach, even if we expect only 2 classes in the output.\n",
    "\n",
    "Let's think about how we can implement this model. We prefer to have our model discover some patterns based on sample data and then apply those patterns to some other text messages. For simplicity, a training dataset is included - airline-tweets.csv. This is a list of people's comments, which already has information about whether the comment is positive or negative.\n",
    "\n",
    "The input to our model should be text. The result is the class number. Let's say 0 for positive comments and 1 for negative ones. So what is the approach to classify a text?\n",
    "\n",
    "Let's implement a simple but reliable solution"
   ]
  },
  {
   "cell_type": "markdown",
   "id": "1403b033-9389-45fc-8c2d-897bb0858345",
   "metadata": {},
   "source": [
    "### Text classification"
   ]
  },
  {
   "cell_type": "markdown",
   "id": "6bcf617c-4f89-47f1-a9e1-86ae27f4aaf2",
   "metadata": {},
   "source": [
    "**Step 1. Text into numbers**\n",
    "\n",
    "The first piece of the puzzle is the text. How can we convert it to a number? There are many ways to do this. Initially, we agreed to implement a simple working solution. The easiest one I can think of is to number the words in the order in which they appear.\n",
    "\n",
    "The first word will become - 1, the second one - 2, etc. If the same word appears more than once, we reuse the number already assigned to it.\n",
    "\n",
    "For example: *\"I like this\"* will become a vector of *[1,2,3]*. *\"I don't like this\"* will become *[1,4,3]*, due to *\"I\"* and *\"this\"* appeared earlier and already got a number. Our vocabulary will grow message by message. This step is illustrated on the image below.\n",
    "\n",
    "As a result, a text message becomes a vector of numbers"
   ]
  },
  {
   "cell_type": "markdown",
   "id": "93d8eaf6-eb92-48bb-88bf-6760e51ae838",
   "metadata": {},
   "source": [
    "**Step 2. Add weights**\n",
    "\n",
    "At this stage we have a vector of numbers that can be converted back to text if necessary. These numbers mean nothing to a computer and cannot help it understand what to do with them. Let's imagine that each word in our dictionary can have a weight that can determine whether the word is positive or negative.\n",
    "\n",
    "We will not assign a weight to each word manually, at least because we do not know the weights. This task will also require a lot of time. Instead, we can train a neaural network to assign a weight to a word based on sample data. This looks like a classic AI task. Let's skip the implementation for now. The key thing for us is that this layer will contain a weight of each word in the dictionary. When we pass a numeric vector to this layer, it should return a vector of associated weights.\n",
    "\n",
    "Example:\n",
    "* Step 1. \"I like this\" -> [1,2,3]\n",
    "* Step 2. [1,2,3] -> [0.01, 0.8, 0.1]\n",
    "\n",
    "As we said before, we don't care what weights are stored in this layer initially. We'll train them. Just for information, this layer is called **Embedding**"
   ]
  },
  {
   "attachments": {
    "5b0606af-cc98-4f09-a044-d1d9ac7526bc.png": {
     "image/png": "[encoded data removed]"
    }
   },
   "cell_type": "markdown",
   "id": "cfb2754e-53c7-4a8d-b4dc-46538ed16455",
   "metadata": {},
   "source": [
    "![image.png](attachment:5b0606af-cc98-4f09-a044-d1d9ac7526bc.png)"
   ]
  },
  {
   "cell_type": "markdown",
   "id": "410d2ddd-64a6-4e43-ba30-e48202f46975",
   "metadata": {},
   "source": [
    "**Step 3. Classification**\n",
    "\n",
    "At this stage we have a vector of weights. Not it's relatively simple to spread these weights into one of the classification groups. This is another classical AI task.\n",
    "\n",
    "To classify some data we'll user **Dense** or **Linear** layer (another name).\n",
    "\n",
    "**We are ready for the implementation!**"
   ]
  },
  {
   "cell_type": "markdown",
   "id": "1afa184b-5527-4790-b38a-953c59a8c18c",
   "metadata": {},
   "source": [
    "## Preparation"
   ]
  },
  {
   "cell_type": "markdown",
   "id": "c961e77d-88af-49f6-a6fa-0781ad4955cf",
   "metadata": {},
   "source": [
    "Let's install and import all needed python packages"
   ]
  },
  {
   "cell_type": "code",
   "execution_count": 1,
   "id": "0dd56dfe-3da8-487d-a178-d627e56034b1",
   "metadata": {},
   "outputs": [],
   "source": [
    "# Important! If there is an error while you importing any of the packages below, you need to install\n",
    "# them manually. To do this, call \"pip install\" command for each missing package as is shown below\n",
    "# \n",
    "# Example: !pip install torchtext"
   ]
  },
  {
   "cell_type": "code",
   "execution_count": 2,
   "id": "664771db-4b9e-4fad-a4b2-7ee9b574097a",
   "metadata": {},
   "outputs": [],
   "source": [
    "import pandas as pd\n",
    "import torch\n",
    "import re\n",
    "import matplotlib.pyplot as plt\n",
    "\n",
    "from torchtext.data import get_tokenizer\n",
    "from collections import Counter\n",
    "from tqdm import tqdm"
   ]
  },
  {
   "cell_type": "code",
   "execution_count": 3,
   "id": "66e60e55-30a4-4736-8844-5a1e3623a2a6",
   "metadata": {},
   "outputs": [
    {
     "name": "stdout",
     "output_type": "stream",
     "text": [
      "mps device is used\n"
     ]
    }
   ],
   "source": [
    "# get device for training (cpu, cuda or mps)\n",
    "device = (\n",
    "    \"cuda\"\n",
    "    if torch.cuda.is_available()\n",
    "    else \"mps\"\n",
    "    if torch.backends.mps.is_available()\n",
    "    else \"cpu\"\n",
    ")\n",
    "print(f\"{device} device is used\")"
   ]
  },
  {
   "cell_type": "code",
   "execution_count": 4,
   "id": "7ab1aabb-1df8-4f88-bac4-b5b7be130fe0",
   "metadata": {},
   "outputs": [],
   "source": [
    "# display settings\n",
    "torch.set_printoptions(precision=2, sci_mode=False)"
   ]
  },
  {
   "cell_type": "markdown",
   "id": "36a6f0b8-cb4b-4c36-a402-11bc7e15a4c2",
   "metadata": {},
   "source": [
    "## Reading sample datasets"
   ]
  },
  {
   "cell_type": "markdown",
   "id": "e8808b97-274e-4e7c-a83a-24f4d3cd4177",
   "metadata": {},
   "source": [
    "Cool. We have a working environment. Let's have a look at the sample data we have and try to analyse it"
   ]
  },
  {
   "cell_type": "code",
   "execution_count": 5,
   "id": "18f79e36-17e3-459f-a32c-7cf196fa9ac5",
   "metadata": {},
   "outputs": [],
   "source": [
    "# load datasets\n",
    "training_data_raw = pd.read_csv('./datasets/airline-tweets.csv')"
   ]
  },
  {
   "cell_type": "code",
   "execution_count": 6,
   "id": "cdb900d7-4a41-403d-a40d-f9e23b5a8905",
   "metadata": {},
   "outputs": [
    {
     "data": {
      "text/html": [
       "<div>\n",
       "<style scoped>\n",
       "    .dataframe tbody tr th:only-of-type {\n",
       "        vertical-align: middle;\n",
       "    }\n",
       "\n",
       "    .dataframe tbody tr th {\n",
       "        vertical-align: top;\n",
       "    }\n",
       "\n",
       "    .dataframe thead th {\n",
       "        text-align: right;\n",
       "    }\n",
       "</style>\n",
       "<table border=\"1\" class=\"dataframe\">\n",
       "  <thead>\n",
       "    <tr style=\"text-align: right;\">\n",
       "      <th></th>\n",
       "      <th>tweet_id</th>\n",
       "      <th>airline_sentiment</th>\n",
       "      <th>airline_sentiment_confidence</th>\n",
       "      <th>negativereason</th>\n",
       "      <th>negativereason_confidence</th>\n",
       "      <th>airline</th>\n",
       "      <th>airline_sentiment_gold</th>\n",
       "      <th>name</th>\n",
       "      <th>negativereason_gold</th>\n",
       "      <th>retweet_count</th>\n",
       "      <th>text</th>\n",
       "      <th>tweet_coord</th>\n",
       "      <th>tweet_created</th>\n",
       "      <th>tweet_location</th>\n",
       "      <th>user_timezone</th>\n",
       "    </tr>\n",
       "  </thead>\n",
       "  <tbody>\n",
       "    <tr>\n",
       "      <th>0</th>\n",
       "      <td>570306133677760513</td>\n",
       "      <td>neutral</td>\n",
       "      <td>1.0000</td>\n",
       "      <td>NaN</td>\n",
       "      <td>NaN</td>\n",
       "      <td>Virgin America</td>\n",
       "      <td>NaN</td>\n",
       "      <td>cairdin</td>\n",
       "      <td>NaN</td>\n",
       "      <td>0</td>\n",
       "      <td>@VirginAmerica What @dhepburn said.</td>\n",
       "      <td>NaN</td>\n",
       "      <td>2015-02-24 11:35:52 -0800</td>\n",
       "      <td>NaN</td>\n",
       "      <td>Eastern Time (US &amp; Canada)</td>\n",
       "    </tr>\n",
       "    <tr>\n",
       "      <th>1</th>\n",
       "      <td>570301130888122368</td>\n",
       "      <td>positive</td>\n",
       "      <td>0.3486</td>\n",
       "      <td>NaN</td>\n",
       "      <td>0.0000</td>\n",
       "      <td>Virgin America</td>\n",
       "      <td>NaN</td>\n",
       "      <td>jnardino</td>\n",
       "      <td>NaN</td>\n",
       "      <td>0</td>\n",
       "      <td>@VirginAmerica plus you've added commercials t...</td>\n",
       "      <td>NaN</td>\n",
       "      <td>2015-02-24 11:15:59 -0800</td>\n",
       "      <td>NaN</td>\n",
       "      <td>Pacific Time (US &amp; Canada)</td>\n",
       "    </tr>\n",
       "    <tr>\n",
       "      <th>2</th>\n",
       "      <td>570301083672813571</td>\n",
       "      <td>neutral</td>\n",
       "      <td>0.6837</td>\n",
       "      <td>NaN</td>\n",
       "      <td>NaN</td>\n",
       "      <td>Virgin America</td>\n",
       "      <td>NaN</td>\n",
       "      <td>yvonnalynn</td>\n",
       "      <td>NaN</td>\n",
       "      <td>0</td>\n",
       "      <td>@VirginAmerica I didn't today... Must mean I n...</td>\n",
       "      <td>NaN</td>\n",
       "      <td>2015-02-24 11:15:48 -0800</td>\n",
       "      <td>Lets Play</td>\n",
       "      <td>Central Time (US &amp; Canada)</td>\n",
       "    </tr>\n",
       "    <tr>\n",
       "      <th>3</th>\n",
       "      <td>570301031407624196</td>\n",
       "      <td>negative</td>\n",
       "      <td>1.0000</td>\n",
       "      <td>Bad Flight</td>\n",
       "      <td>0.7033</td>\n",
       "      <td>Virgin America</td>\n",
       "      <td>NaN</td>\n",
       "      <td>jnardino</td>\n",
       "      <td>NaN</td>\n",
       "      <td>0</td>\n",
       "      <td>@VirginAmerica it's really aggressive to blast...</td>\n",
       "      <td>NaN</td>\n",
       "      <td>2015-02-24 11:15:36 -0800</td>\n",
       "      <td>NaN</td>\n",
       "      <td>Pacific Time (US &amp; Canada)</td>\n",
       "    </tr>\n",
       "    <tr>\n",
       "      <th>4</th>\n",
       "      <td>570300817074462722</td>\n",
       "      <td>negative</td>\n",
       "      <td>1.0000</td>\n",
       "      <td>Can't Tell</td>\n",
       "      <td>1.0000</td>\n",
       "      <td>Virgin America</td>\n",
       "      <td>NaN</td>\n",
       "      <td>jnardino</td>\n",
       "      <td>NaN</td>\n",
       "      <td>0</td>\n",
       "      <td>@VirginAmerica and it's a really big bad thing...</td>\n",
       "      <td>NaN</td>\n",
       "      <td>2015-02-24 11:14:45 -0800</td>\n",
       "      <td>NaN</td>\n",
       "      <td>Pacific Time (US &amp; Canada)</td>\n",
       "    </tr>\n",
       "    <tr>\n",
       "      <th>5</th>\n",
       "      <td>570300767074181121</td>\n",
       "      <td>negative</td>\n",
       "      <td>1.0000</td>\n",
       "      <td>Can't Tell</td>\n",
       "      <td>0.6842</td>\n",
       "      <td>Virgin America</td>\n",
       "      <td>NaN</td>\n",
       "      <td>jnardino</td>\n",
       "      <td>NaN</td>\n",
       "      <td>0</td>\n",
       "      <td>@VirginAmerica seriously would pay $30 a fligh...</td>\n",
       "      <td>NaN</td>\n",
       "      <td>2015-02-24 11:14:33 -0800</td>\n",
       "      <td>NaN</td>\n",
       "      <td>Pacific Time (US &amp; Canada)</td>\n",
       "    </tr>\n",
       "    <tr>\n",
       "      <th>6</th>\n",
       "      <td>570300616901320704</td>\n",
       "      <td>positive</td>\n",
       "      <td>0.6745</td>\n",
       "      <td>NaN</td>\n",
       "      <td>0.0000</td>\n",
       "      <td>Virgin America</td>\n",
       "      <td>NaN</td>\n",
       "      <td>cjmcginnis</td>\n",
       "      <td>NaN</td>\n",
       "      <td>0</td>\n",
       "      <td>@VirginAmerica yes, nearly every time I fly VX...</td>\n",
       "      <td>NaN</td>\n",
       "      <td>2015-02-24 11:13:57 -0800</td>\n",
       "      <td>San Francisco CA</td>\n",
       "      <td>Pacific Time (US &amp; Canada)</td>\n",
       "    </tr>\n",
       "    <tr>\n",
       "      <th>7</th>\n",
       "      <td>570300248553349120</td>\n",
       "      <td>neutral</td>\n",
       "      <td>0.6340</td>\n",
       "      <td>NaN</td>\n",
       "      <td>NaN</td>\n",
       "      <td>Virgin America</td>\n",
       "      <td>NaN</td>\n",
       "      <td>pilot</td>\n",
       "      <td>NaN</td>\n",
       "      <td>0</td>\n",
       "      <td>@VirginAmerica Really missed a prime opportuni...</td>\n",
       "      <td>NaN</td>\n",
       "      <td>2015-02-24 11:12:29 -0800</td>\n",
       "      <td>Los Angeles</td>\n",
       "      <td>Pacific Time (US &amp; Canada)</td>\n",
       "    </tr>\n",
       "    <tr>\n",
       "      <th>8</th>\n",
       "      <td>570299953286942721</td>\n",
       "      <td>positive</td>\n",
       "      <td>0.6559</td>\n",
       "      <td>NaN</td>\n",
       "      <td>NaN</td>\n",
       "      <td>Virgin America</td>\n",
       "      <td>NaN</td>\n",
       "      <td>dhepburn</td>\n",
       "      <td>NaN</td>\n",
       "      <td>0</td>\n",
       "      <td>@virginamerica Well, I didn't…but NOW I DO! :-D</td>\n",
       "      <td>NaN</td>\n",
       "      <td>2015-02-24 11:11:19 -0800</td>\n",
       "      <td>San Diego</td>\n",
       "      <td>Pacific Time (US &amp; Canada)</td>\n",
       "    </tr>\n",
       "    <tr>\n",
       "      <th>9</th>\n",
       "      <td>570295459631263746</td>\n",
       "      <td>positive</td>\n",
       "      <td>1.0000</td>\n",
       "      <td>NaN</td>\n",
       "      <td>NaN</td>\n",
       "      <td>Virgin America</td>\n",
       "      <td>NaN</td>\n",
       "      <td>YupitsTate</td>\n",
       "      <td>NaN</td>\n",
       "      <td>0</td>\n",
       "      <td>@VirginAmerica it was amazing, and arrived an ...</td>\n",
       "      <td>NaN</td>\n",
       "      <td>2015-02-24 10:53:27 -0800</td>\n",
       "      <td>Los Angeles</td>\n",
       "      <td>Eastern Time (US &amp; Canada)</td>\n",
       "    </tr>\n",
       "  </tbody>\n",
       "</table>\n",
       "</div>"
      ],
      "text/plain": [
       "             tweet_id airline_sentiment  airline_sentiment_confidence  \\\n",
       "0  570306133677760513           neutral                        1.0000   \n",
       "1  570301130888122368          positive                        0.3486   \n",
       "2  570301083672813571           neutral                        0.6837   \n",
       "3  570301031407624196          negative                        1.0000   \n",
       "4  570300817074462722          negative                        1.0000   \n",
       "5  570300767074181121          negative                        1.0000   \n",
       "6  570300616901320704          positive                        0.6745   \n",
       "7  570300248553349120           neutral                        0.6340   \n",
       "8  570299953286942721          positive                        0.6559   \n",
       "9  570295459631263746          positive                        1.0000   \n",
       "\n",
       "  negativereason  negativereason_confidence         airline  \\\n",
       "0            NaN                        NaN  Virgin America   \n",
       "1            NaN                     0.0000  Virgin America   \n",
       "2            NaN                        NaN  Virgin America   \n",
       "3     Bad Flight                     0.7033  Virgin America   \n",
       "4     Can't Tell                     1.0000  Virgin America   \n",
       "5     Can't Tell                     0.6842  Virgin America   \n",
       "6            NaN                     0.0000  Virgin America   \n",
       "7            NaN                        NaN  Virgin America   \n",
       "8            NaN                        NaN  Virgin America   \n",
       "9            NaN                        NaN  Virgin America   \n",
       "\n",
       "  airline_sentiment_gold        name negativereason_gold  retweet_count  \\\n",
       "0                    NaN     cairdin                 NaN              0   \n",
       "1                    NaN    jnardino                 NaN              0   \n",
       "2                    NaN  yvonnalynn                 NaN              0   \n",
       "3                    NaN    jnardino                 NaN              0   \n",
       "4                    NaN    jnardino                 NaN              0   \n",
       "5                    NaN    jnardino                 NaN              0   \n",
       "6                    NaN  cjmcginnis                 NaN              0   \n",
       "7                    NaN       pilot                 NaN              0   \n",
       "8                    NaN    dhepburn                 NaN              0   \n",
       "9                    NaN  YupitsTate                 NaN              0   \n",
       "\n",
       "                                                text tweet_coord  \\\n",
       "0                @VirginAmerica What @dhepburn said.         NaN   \n",
       "1  @VirginAmerica plus you've added commercials t...         NaN   \n",
       "2  @VirginAmerica I didn't today... Must mean I n...         NaN   \n",
       "3  @VirginAmerica it's really aggressive to blast...         NaN   \n",
       "4  @VirginAmerica and it's a really big bad thing...         NaN   \n",
       "5  @VirginAmerica seriously would pay $30 a fligh...         NaN   \n",
       "6  @VirginAmerica yes, nearly every time I fly VX...         NaN   \n",
       "7  @VirginAmerica Really missed a prime opportuni...         NaN   \n",
       "8    @virginamerica Well, I didn't…but NOW I DO! :-D         NaN   \n",
       "9  @VirginAmerica it was amazing, and arrived an ...         NaN   \n",
       "\n",
       "               tweet_created    tweet_location               user_timezone  \n",
       "0  2015-02-24 11:35:52 -0800               NaN  Eastern Time (US & Canada)  \n",
       "1  2015-02-24 11:15:59 -0800               NaN  Pacific Time (US & Canada)  \n",
       "2  2015-02-24 11:15:48 -0800         Lets Play  Central Time (US & Canada)  \n",
       "3  2015-02-24 11:15:36 -0800               NaN  Pacific Time (US & Canada)  \n",
       "4  2015-02-24 11:14:45 -0800               NaN  Pacific Time (US & Canada)  \n",
       "5  2015-02-24 11:14:33 -0800               NaN  Pacific Time (US & Canada)  \n",
       "6  2015-02-24 11:13:57 -0800  San Francisco CA  Pacific Time (US & Canada)  \n",
       "7  2015-02-24 11:12:29 -0800       Los Angeles  Pacific Time (US & Canada)  \n",
       "8  2015-02-24 11:11:19 -0800         San Diego  Pacific Time (US & Canada)  \n",
       "9  2015-02-24 10:53:27 -0800       Los Angeles  Eastern Time (US & Canada)  "
      ]
     },
     "execution_count": 6,
     "metadata": {},
     "output_type": "execute_result"
    }
   ],
   "source": [
    "training_data_raw.head(10)"
   ]
  },
  {
   "cell_type": "code",
   "execution_count": 7,
   "id": "b08795e5-1445-46e7-b0d6-68908ba28274",
   "metadata": {},
   "outputs": [
    {
     "name": "stdout",
     "output_type": "stream",
     "text": [
      "Total: 14640\n"
     ]
    },
    {
     "data": {
      "text/html": [
       "<div>\n",
       "<style scoped>\n",
       "    .dataframe tbody tr th:only-of-type {\n",
       "        vertical-align: middle;\n",
       "    }\n",
       "\n",
       "    .dataframe tbody tr th {\n",
       "        vertical-align: top;\n",
       "    }\n",
       "\n",
       "    .dataframe thead th {\n",
       "        text-align: right;\n",
       "    }\n",
       "</style>\n",
       "<table border=\"1\" class=\"dataframe\">\n",
       "  <thead>\n",
       "    <tr style=\"text-align: right;\">\n",
       "      <th></th>\n",
       "      <th>sentiment</th>\n",
       "      <th>text</th>\n",
       "    </tr>\n",
       "  </thead>\n",
       "  <tbody>\n",
       "    <tr>\n",
       "      <th>0</th>\n",
       "      <td>neutral</td>\n",
       "      <td>@VirginAmerica What @dhepburn said.</td>\n",
       "    </tr>\n",
       "    <tr>\n",
       "      <th>1</th>\n",
       "      <td>positive</td>\n",
       "      <td>@VirginAmerica plus you've added commercials t...</td>\n",
       "    </tr>\n",
       "    <tr>\n",
       "      <th>2</th>\n",
       "      <td>neutral</td>\n",
       "      <td>@VirginAmerica I didn't today... Must mean I n...</td>\n",
       "    </tr>\n",
       "    <tr>\n",
       "      <th>3</th>\n",
       "      <td>negative</td>\n",
       "      <td>@VirginAmerica it's really aggressive to blast...</td>\n",
       "    </tr>\n",
       "    <tr>\n",
       "      <th>4</th>\n",
       "      <td>negative</td>\n",
       "      <td>@VirginAmerica and it's a really big bad thing...</td>\n",
       "    </tr>\n",
       "    <tr>\n",
       "      <th>5</th>\n",
       "      <td>negative</td>\n",
       "      <td>@VirginAmerica seriously would pay $30 a fligh...</td>\n",
       "    </tr>\n",
       "    <tr>\n",
       "      <th>6</th>\n",
       "      <td>positive</td>\n",
       "      <td>@VirginAmerica yes, nearly every time I fly VX...</td>\n",
       "    </tr>\n",
       "    <tr>\n",
       "      <th>7</th>\n",
       "      <td>neutral</td>\n",
       "      <td>@VirginAmerica Really missed a prime opportuni...</td>\n",
       "    </tr>\n",
       "    <tr>\n",
       "      <th>8</th>\n",
       "      <td>positive</td>\n",
       "      <td>@virginamerica Well, I didn't…but NOW I DO! :-D</td>\n",
       "    </tr>\n",
       "    <tr>\n",
       "      <th>9</th>\n",
       "      <td>positive</td>\n",
       "      <td>@VirginAmerica it was amazing, and arrived an ...</td>\n",
       "    </tr>\n",
       "  </tbody>\n",
       "</table>\n",
       "</div>"
      ],
      "text/plain": [
       "  sentiment                                               text\n",
       "0   neutral                @VirginAmerica What @dhepburn said.\n",
       "1  positive  @VirginAmerica plus you've added commercials t...\n",
       "2   neutral  @VirginAmerica I didn't today... Must mean I n...\n",
       "3  negative  @VirginAmerica it's really aggressive to blast...\n",
       "4  negative  @VirginAmerica and it's a really big bad thing...\n",
       "5  negative  @VirginAmerica seriously would pay $30 a fligh...\n",
       "6  positive  @VirginAmerica yes, nearly every time I fly VX...\n",
       "7   neutral  @VirginAmerica Really missed a prime opportuni...\n",
       "8  positive    @virginamerica Well, I didn't…but NOW I DO! :-D\n",
       "9  positive  @VirginAmerica it was amazing, and arrived an ..."
      ]
     },
     "execution_count": 7,
     "metadata": {},
     "output_type": "execute_result"
    }
   ],
   "source": [
    "# rename columns for consistency. It will give us an opportunity to work with other datasets as well.\n",
    "# We also leave only two columns (sentiments, text) to exclude unused data\n",
    "training_data = training_data_raw.rename(columns={'airline_sentiment': 'sentiment', 'text': 'text'})\n",
    "training_data = training_data[['sentiment','text']]\n",
    "\n",
    "print('Total:', len(training_data))\n",
    "training_data.head(10)"
   ]
  },
  {
   "cell_type": "code",
   "execution_count": 8,
   "id": "e52c308f-1eff-4895-a623-fb6b53ab629a",
   "metadata": {},
   "outputs": [
    {
     "name": "stdout",
     "output_type": "stream",
     "text": [
      "Total: 11541\n"
     ]
    },
    {
     "data": {
      "text/html": [
       "<div>\n",
       "<style scoped>\n",
       "    .dataframe tbody tr th:only-of-type {\n",
       "        vertical-align: middle;\n",
       "    }\n",
       "\n",
       "    .dataframe tbody tr th {\n",
       "        vertical-align: top;\n",
       "    }\n",
       "\n",
       "    .dataframe thead th {\n",
       "        text-align: right;\n",
       "    }\n",
       "</style>\n",
       "<table border=\"1\" class=\"dataframe\">\n",
       "  <thead>\n",
       "    <tr style=\"text-align: right;\">\n",
       "      <th></th>\n",
       "      <th>sentiment</th>\n",
       "      <th>text</th>\n",
       "    </tr>\n",
       "  </thead>\n",
       "  <tbody>\n",
       "    <tr>\n",
       "      <th>1</th>\n",
       "      <td>positive</td>\n",
       "      <td>@VirginAmerica plus you've added commercials t...</td>\n",
       "    </tr>\n",
       "    <tr>\n",
       "      <th>3</th>\n",
       "      <td>negative</td>\n",
       "      <td>@VirginAmerica it's really aggressive to blast...</td>\n",
       "    </tr>\n",
       "    <tr>\n",
       "      <th>4</th>\n",
       "      <td>negative</td>\n",
       "      <td>@VirginAmerica and it's a really big bad thing...</td>\n",
       "    </tr>\n",
       "    <tr>\n",
       "      <th>5</th>\n",
       "      <td>negative</td>\n",
       "      <td>@VirginAmerica seriously would pay $30 a fligh...</td>\n",
       "    </tr>\n",
       "    <tr>\n",
       "      <th>6</th>\n",
       "      <td>positive</td>\n",
       "      <td>@VirginAmerica yes, nearly every time I fly VX...</td>\n",
       "    </tr>\n",
       "    <tr>\n",
       "      <th>8</th>\n",
       "      <td>positive</td>\n",
       "      <td>@virginamerica Well, I didn't…but NOW I DO! :-D</td>\n",
       "    </tr>\n",
       "    <tr>\n",
       "      <th>9</th>\n",
       "      <td>positive</td>\n",
       "      <td>@VirginAmerica it was amazing, and arrived an ...</td>\n",
       "    </tr>\n",
       "    <tr>\n",
       "      <th>11</th>\n",
       "      <td>positive</td>\n",
       "      <td>@VirginAmerica I &amp;lt;3 pretty graphics. so muc...</td>\n",
       "    </tr>\n",
       "    <tr>\n",
       "      <th>12</th>\n",
       "      <td>positive</td>\n",
       "      <td>@VirginAmerica This is such a great deal! Alre...</td>\n",
       "    </tr>\n",
       "    <tr>\n",
       "      <th>13</th>\n",
       "      <td>positive</td>\n",
       "      <td>@VirginAmerica @virginmedia I'm flying your #f...</td>\n",
       "    </tr>\n",
       "  </tbody>\n",
       "</table>\n",
       "</div>"
      ],
      "text/plain": [
       "   sentiment                                               text\n",
       "1   positive  @VirginAmerica plus you've added commercials t...\n",
       "3   negative  @VirginAmerica it's really aggressive to blast...\n",
       "4   negative  @VirginAmerica and it's a really big bad thing...\n",
       "5   negative  @VirginAmerica seriously would pay $30 a fligh...\n",
       "6   positive  @VirginAmerica yes, nearly every time I fly VX...\n",
       "8   positive    @virginamerica Well, I didn't…but NOW I DO! :-D\n",
       "9   positive  @VirginAmerica it was amazing, and arrived an ...\n",
       "11  positive  @VirginAmerica I &lt;3 pretty graphics. so muc...\n",
       "12  positive  @VirginAmerica This is such a great deal! Alre...\n",
       "13  positive  @VirginAmerica @virginmedia I'm flying your #f..."
      ]
     },
     "execution_count": 8,
     "metadata": {},
     "output_type": "execute_result"
    }
   ],
   "source": [
    "# leave only 'positive' and 'negative' comments\n",
    "training_data = training_data[(training_data['sentiment'] == 'positive') | (training_data['sentiment'] == 'negative')]\n",
    "\n",
    "print('Total:', len(training_data))\n",
    "training_data.head(10)"
   ]
  },
  {
   "cell_type": "code",
   "execution_count": 9,
   "id": "4a856281-b225-478e-a461-d056c71e7515",
   "metadata": {},
   "outputs": [
    {
     "data": {
      "text/plain": [
       "<Axes: >"
      ]
     },
     "execution_count": 9,
     "metadata": {},
     "output_type": "execute_result"
    },
    {
     "data": {
      "image/png": "[encoded data removed]",
      "text/plain": [
       "<Figure size 640x480 with 1 Axes>"
      ]
     },
     "metadata": {},
     "output_type": "display_data"
    }
   ],
   "source": [
    "# training dataset statistics\n",
    "training_data['sentiment'].hist()"
   ]
  },
  {
   "cell_type": "markdown",
   "id": "4ed93493-99da-435b-90bb-b07d8fc94710",
   "metadata": {},
   "source": [
    "## Step 1-1. Convert sentiment classes into numbers"
   ]
  },
  {
   "cell_type": "markdown",
   "id": "1eea0b12-fbbc-4028-8b5a-5c5d5988155e",
   "metadata": {},
   "source": [
    "At this step we'll convert classes ('positive', 'negative') into their number representation (0,1)"
   ]
  },
  {
   "cell_type": "code",
   "execution_count": 10,
   "id": "3eb10742-9d85-4973-b285-9a24cd72bc58",
   "metadata": {},
   "outputs": [
    {
     "name": "stdout",
     "output_type": "stream",
     "text": [
      "Classes (index to name):  {0: 'positive', 1: 'negative'}\n",
      "Classes (name to index):  {'positive': 0, 'negative': 1}\n"
     ]
    }
   ],
   "source": [
    "# classes\n",
    "unique_classes = training_data['sentiment'].unique()\n",
    "\n",
    "total_classes = len(unique_classes)\n",
    "classes_index_to_name = dict((i,v) for i,v in enumerate(unique_classes))\n",
    "classes_name_to_index = dict((v,i) for i,v in enumerate(unique_classes))\n",
    "\n",
    "print('Classes (index to name): ', classes_index_to_name)\n",
    "print('Classes (name to index): ', classes_name_to_index)"
   ]
  },
  {
   "cell_type": "code",
   "execution_count": 11,
   "id": "112e3cca-2024-43a1-bd9c-d3cfbebdb96b",
   "metadata": {},
   "outputs": [],
   "source": [
    "# convert classes into numbers\n",
    "# example: positive -> 0, negative -> 1\n",
    "def classes_to_numbers(class_names):\n",
    "    return [classes_name_to_index[x] for x in class_names]\n",
    "    \n",
    "# convert class numbers into vectors\n",
    "# example: 0 -> [0,1]; 1 -> [1,0]\n",
    "def class_into_vector(class_index, max_classes):\n",
    "    result = torch.full((1, max_classes), 0).view(max_classes)\n",
    "    result[class_index] = 1\n",
    "    return result.tolist()\n",
    "\n",
    "# example: ['negative', 'positive'] -> [[0,1], [1,0]]\n",
    "def classes_into_vectors(class_names):\n",
    "    return [class_into_vector(class_value, total_classes) for class_value in classes_to_numbers(class_names)]"
   ]
  },
  {
   "cell_type": "code",
   "execution_count": 12,
   "id": "5c849bff-32fb-4c21-bf0e-0b575bfb62f6",
   "metadata": {},
   "outputs": [
    {
     "data": {
      "text/plain": [
       "[[1, 0],\n",
       " [0, 1],\n",
       " [0, 1],\n",
       " [0, 1],\n",
       " [1, 0],\n",
       " [1, 0],\n",
       " [1, 0],\n",
       " [1, 0],\n",
       " [1, 0],\n",
       " [1, 0],\n",
       " [1, 0],\n",
       " [0, 1],\n",
       " [1, 0],\n",
       " [0, 1],\n",
       " [1, 0],\n",
       " [1, 0],\n",
       " [0, 1],\n",
       " [1, 0],\n",
       " [1, 0],\n",
       " [0, 1]]"
      ]
     },
     "execution_count": 12,
     "metadata": {},
     "output_type": "execute_result"
    }
   ],
   "source": [
    "training_classes = classes_into_vectors(training_data['sentiment'])\n",
    "training_classes[:20]"
   ]
  },
  {
   "cell_type": "markdown",
   "id": "7966c222-74cb-4450-adbf-2e274f5731d5",
   "metadata": {},
   "source": [
    "## Step 1-2. Convert text into numbers"
   ]
  },
  {
   "cell_type": "markdown",
   "id": "4edddf22-f237-4cac-b330-e5c9fe058182",
   "metadata": {},
   "source": [
    "At this step we'll convert a text into its number representation"
   ]
  },
  {
   "cell_type": "code",
   "execution_count": 13,
   "id": "91566231-49ec-4728-8d85-d804f1563dea",
   "metadata": {},
   "outputs": [
    {
     "name": "stdout",
     "output_type": "stream",
     "text": [
      "Total comment:  11541\n",
      "Longest comment:  36\n",
      "Shortest comment:  2\n",
      "\n",
      "First 5 comments:\n",
      "['virginamerica', 'plus', 'you', \"'\", 've', 'added', 'commercials', 'to', 'the', 'experience', 'tacky']\n",
      "['virginamerica', 'it', \"'\", 's', 'really', 'aggressive', 'to', 'blast', 'obnoxious', 'entertainment', 'in', 'your', 'guests', \"'\", 'faces', 'amp', 'they', 'have', 'little', 'recourse']\n",
      "['virginamerica', 'and', 'it', \"'\", 's', 'a', 'really', 'big', 'bad', 'thing', 'about', 'it']\n",
      "['virginamerica', 'seriously', 'would', 'pay', '30', 'a', 'flight', 'for', 'seats', 'that', 'didn', \"'\", 't', 'have', 'this', 'playing', 'it', \"'\", 's', 'really', 'the', 'only', 'bad', 'thing', 'about', 'flying', 'va']\n",
      "['virginamerica', 'yes', 'nearly', 'every', 'time', 'i', 'fly', 'vx', 'this', 'ear', 'worm', 'won', 't', 'go', 'away']\n"
     ]
    }
   ],
   "source": [
    "# convert comments into tokens\n",
    "# example: ['hello world!'] => [['hello','world']]\n",
    "def tokenize(comments):\n",
    "    def remove_punctuation(text):\n",
    "        return re.sub(r'[^a-zA-Z0-9\\' ]+', ' ', text)\n",
    "    \n",
    "    # split each sentense into tokens\n",
    "    tokenizer = get_tokenizer(\"basic_english\")\n",
    "    tokenized_items = [tokenizer(remove_punctuation(str(x))) for x in comments]\n",
    "\n",
    "    return tokenized_items\n",
    "\n",
    "# comments\n",
    "tokenized_training_comments = tokenize(training_data['text'])\n",
    "\n",
    "# statistics\n",
    "training_longest_comment = max([len(x) for x in tokenized_training_comments])\n",
    "training_shortest_comment = min([len(x) for x in tokenized_training_comments])\n",
    "training_total_comments = len(tokenized_training_comments)\n",
    "\n",
    "print('Total comment: ', training_total_comments)\n",
    "print('Longest comment: ', training_longest_comment)\n",
    "print('Shortest comment: ', training_shortest_comment)\n",
    "print()\n",
    "print('First 5 comments:\\n{}'.format('\\n'.join(map(str, tokenized_training_comments[:5]))))"
   ]
  },
  {
   "cell_type": "code",
   "execution_count": 14,
   "id": "64c49d09-eec8-4dfd-bce3-2b41a9adc057",
   "metadata": {},
   "outputs": [
    {
     "name": "stdout",
     "output_type": "stream",
     "text": [
      "Total comment:  11541\n",
      "Longest comment:  36\n",
      "Shortest comment:  2\n"
     ]
    }
   ],
   "source": [
    "# filter data\n",
    "min_comment_length = 1\n",
    "\n",
    "# this function will remove all comments and related classes if comment's length is less than 'min_comment_length'\n",
    "def filter_data(comments, classes):\n",
    "    filtered_data = filter(lambda p: len(p[0]) >= min_comment_length, zip(comments, classes))\n",
    "    [filtered_comments, filtered_classes] = list(zip(*filtered_data))\n",
    "    return (list(filtered_comments), list(filtered_classes))\n",
    "\n",
    "(filtered_comments, filtered_classes) = filter_data(tokenized_training_comments, training_classes)\n",
    "\n",
    "print('Total comment: ', len(filtered_comments))\n",
    "print('Longest comment: ', max([len(x) for x in filtered_comments]))\n",
    "print('Shortest comment: ', min([len(x) for x in filtered_comments]))"
   ]
  },
  {
   "cell_type": "code",
   "execution_count": 15,
   "id": "2eac0703-f50c-4c77-8298-c52bffa448be",
   "metadata": {},
   "outputs": [
    {
     "data": {
      "text/plain": [
       "[(['virginamerica',\n",
       "   'plus',\n",
       "   'you',\n",
       "   \"'\",\n",
       "   've',\n",
       "   'added',\n",
       "   'commercials',\n",
       "   'to',\n",
       "   'the',\n",
       "   'experience',\n",
       "   'tacky'],\n",
       "  [1, 0]),\n",
       " (['virginamerica',\n",
       "   'it',\n",
       "   \"'\",\n",
       "   's',\n",
       "   'really',\n",
       "   'aggressive',\n",
       "   'to',\n",
       "   'blast',\n",
       "   'obnoxious',\n",
       "   'entertainment',\n",
       "   'in',\n",
       "   'your',\n",
       "   'guests',\n",
       "   \"'\",\n",
       "   'faces',\n",
       "   'amp',\n",
       "   'they',\n",
       "   'have',\n",
       "   'little',\n",
       "   'recourse'],\n",
       "  [0, 1]),\n",
       " (['virginamerica',\n",
       "   'and',\n",
       "   'it',\n",
       "   \"'\",\n",
       "   's',\n",
       "   'a',\n",
       "   'really',\n",
       "   'big',\n",
       "   'bad',\n",
       "   'thing',\n",
       "   'about',\n",
       "   'it'],\n",
       "  [0, 1]),\n",
       " (['virginamerica',\n",
       "   'seriously',\n",
       "   'would',\n",
       "   'pay',\n",
       "   '30',\n",
       "   'a',\n",
       "   'flight',\n",
       "   'for',\n",
       "   'seats',\n",
       "   'that',\n",
       "   'didn',\n",
       "   \"'\",\n",
       "   't',\n",
       "   'have',\n",
       "   'this',\n",
       "   'playing',\n",
       "   'it',\n",
       "   \"'\",\n",
       "   's',\n",
       "   'really',\n",
       "   'the',\n",
       "   'only',\n",
       "   'bad',\n",
       "   'thing',\n",
       "   'about',\n",
       "   'flying',\n",
       "   'va'],\n",
       "  [0, 1]),\n",
       " (['virginamerica',\n",
       "   'yes',\n",
       "   'nearly',\n",
       "   'every',\n",
       "   'time',\n",
       "   'i',\n",
       "   'fly',\n",
       "   'vx',\n",
       "   'this',\n",
       "   'ear',\n",
       "   'worm',\n",
       "   'won',\n",
       "   't',\n",
       "   'go',\n",
       "   'away'],\n",
       "  [1, 0]),\n",
       " (['virginamerica',\n",
       "   'well',\n",
       "   'i',\n",
       "   'didn',\n",
       "   \"'\",\n",
       "   't',\n",
       "   'but',\n",
       "   'now',\n",
       "   'i',\n",
       "   'do',\n",
       "   'd'],\n",
       "  [1, 0]),\n",
       " (['virginamerica',\n",
       "   'it',\n",
       "   'was',\n",
       "   'amazing',\n",
       "   'and',\n",
       "   'arrived',\n",
       "   'an',\n",
       "   'hour',\n",
       "   'early',\n",
       "   'you',\n",
       "   \"'\",\n",
       "   're',\n",
       "   'too',\n",
       "   'good',\n",
       "   'to',\n",
       "   'me'],\n",
       "  [1, 0]),\n",
       " (['virginamerica',\n",
       "   'i',\n",
       "   'lt',\n",
       "   '3',\n",
       "   'pretty',\n",
       "   'graphics',\n",
       "   'so',\n",
       "   'much',\n",
       "   'better',\n",
       "   'than',\n",
       "   'minimal',\n",
       "   'iconography',\n",
       "   'd'],\n",
       "  [1, 0]),\n",
       " (['virginamerica',\n",
       "   'this',\n",
       "   'is',\n",
       "   'such',\n",
       "   'a',\n",
       "   'great',\n",
       "   'deal',\n",
       "   'already',\n",
       "   'thinking',\n",
       "   'about',\n",
       "   'my',\n",
       "   '2nd',\n",
       "   'trip',\n",
       "   'to',\n",
       "   'australia',\n",
       "   'amp',\n",
       "   'i',\n",
       "   'haven',\n",
       "   \"'\",\n",
       "   't',\n",
       "   'even',\n",
       "   'gone',\n",
       "   'on',\n",
       "   'my',\n",
       "   '1st',\n",
       "   'trip',\n",
       "   'yet',\n",
       "   'p'],\n",
       "  [1, 0]),\n",
       " (['virginamerica',\n",
       "   'virginmedia',\n",
       "   'i',\n",
       "   \"'\",\n",
       "   'm',\n",
       "   'flying',\n",
       "   'your',\n",
       "   'fabulous',\n",
       "   'seductive',\n",
       "   'skies',\n",
       "   'again',\n",
       "   'u',\n",
       "   'take',\n",
       "   'all',\n",
       "   'the',\n",
       "   'stress',\n",
       "   'away',\n",
       "   'from',\n",
       "   'travel',\n",
       "   'http',\n",
       "   't',\n",
       "   'co',\n",
       "   'ahlxhhkiyn'],\n",
       "  [1, 0])]"
      ]
     },
     "execution_count": 15,
     "metadata": {},
     "output_type": "execute_result"
    }
   ],
   "source": [
    "list(zip(filtered_comments, filtered_classes))[:10]"
   ]
  },
  {
   "cell_type": "code",
   "execution_count": 16,
   "id": "a21658ae-b981-4895-b939-4e188926a22f",
   "metadata": {},
   "outputs": [
    {
     "name": "stdout",
     "output_type": "stream",
     "text": [
      "Total words: 12680\n",
      "\n",
      "First 10 words: [('virginamerica', 1), ('plus', 2), ('you', 3), (\"'\", 4), ('ve', 5), ('added', 6), ('commercials', 7), ('to', 8), ('the', 9), ('experience', 10)]\n",
      "\n"
     ]
    }
   ],
   "source": [
    "# let's generate a vocabulary\n",
    "def generate_vocabulary(comments):\n",
    "    vocabulary = {}\n",
    "    \n",
    "    for comment in comments:\n",
    "        for word in comment:\n",
    "            if not (word in vocabulary):\n",
    "                vocabulary[word] = len(vocabulary) + 1\n",
    "\n",
    "    return vocabulary\n",
    "\n",
    "vocabulary = generate_vocabulary(filtered_comments)\n",
    "vocabulary_size = len(vocabulary)\n",
    "\n",
    "print('Total words: {}\\n'.format(vocabulary_size))\n",
    "print('First 10 words: {}\\n'.format(list(vocabulary.items())[:10]))"
   ]
  },
  {
   "cell_type": "code",
   "execution_count": 17,
   "id": "f22730fb-2c32-4547-867c-bbd6c7eca7eb",
   "metadata": {},
   "outputs": [
    {
     "name": "stdout",
     "output_type": "stream",
     "text": [
      "First 5 comments: [0, 0, 0, 0, 0, 0, 0, 0, 0, 0, 0, 0, 0, 0, 0, 0, 0, 0, 0, 0, 0, 0, 0, 0, 0, 1, 2, 3, 4, 5, 6, 7, 8, 9, 10, 11]\n",
      "[0, 0, 0, 0, 0, 0, 0, 0, 0, 0, 0, 0, 0, 0, 0, 0, 1, 12, 4, 13, 14, 15, 8, 16, 17, 18, 19, 20, 21, 4, 22, 23, 24, 25, 26, 27]\n",
      "[0, 0, 0, 0, 0, 0, 0, 0, 0, 0, 0, 0, 0, 0, 0, 0, 0, 0, 0, 0, 0, 0, 0, 0, 1, 28, 12, 4, 13, 29, 14, 30, 31, 32, 33, 12]\n",
      "[0, 0, 0, 0, 0, 0, 0, 0, 0, 1, 34, 35, 36, 37, 29, 38, 39, 40, 41, 42, 4, 43, 25, 44, 45, 12, 4, 13, 14, 9, 46, 31, 32, 33, 47, 48]\n",
      "[0, 0, 0, 0, 0, 0, 0, 0, 0, 0, 0, 0, 0, 0, 0, 0, 0, 0, 0, 0, 0, 1, 49, 50, 51, 52, 53, 54, 55, 44, 56, 57, 58, 43, 59, 60]\n",
      "\n"
     ]
    }
   ],
   "source": [
    "vector_size = training_longest_comment\n",
    "\n",
    "# convert tokens into numbers\n",
    "# example: [['hello', 'world']] -> [[1761, 1521]]\n",
    "def convert_tokens_into_numbers(vocabulary, comments):\n",
    "    def convert(line):\n",
    "        converted_line = []\n",
    "        \n",
    "        for word in line:\n",
    "            if not (word in vocabulary):\n",
    "                # we still add a new word do the dictionary if it doesn't exist\n",
    "                vocabulary[word] = len(vocabulary) + 1\n",
    "\n",
    "            converted_line.append(vocabulary[word])\n",
    "\n",
    "        return converted_line\n",
    "\n",
    "    return [convert(comment) for comment in comments]\n",
    "\n",
    "# normalize tokens\n",
    "# example: [[1, 20]] -> [[0,0,0,...,1, 20]]\n",
    "def normalize_tokens(tokens, max_length):\n",
    "    def normalize(line):\n",
    "        line_length = len(line)\n",
    "        if line_length == 0:\n",
    "            return None  \n",
    "        elif line_length > max_length:\n",
    "            return line[line_length - max_length:]\n",
    "        elif line_length < max_length:\n",
    "            return [0] * (max_length - line_length) + line\n",
    "        else:\n",
    "            return line\n",
    "\n",
    "    return [normalize(line) for line in tokens]\n",
    "\n",
    "# convert to numbers\n",
    "training_normalized_comments = normalize_tokens(\n",
    "    convert_tokens_into_numbers(vocabulary, filtered_comments),\n",
    "    vector_size\n",
    ")\n",
    "\n",
    "# display top 10 items\n",
    "print('First 5 comments: {}\\n'.format('\\n'.join(map(str, training_normalized_comments[:5]))))"
   ]
  },
  {
   "cell_type": "markdown",
   "id": "4519db54-6ddd-44e2-af40-35f435e126e3",
   "metadata": {},
   "source": [
    "## Split data into training and validation datasets"
   ]
  },
  {
   "cell_type": "markdown",
   "id": "09c19f51-adb7-43b4-8e29-7e3d29e73156",
   "metadata": {},
   "source": [
    "Let's split our sample data into two datasets:\n",
    "* training dataset - will be used for training\n",
    "* validation dataset - will be used for validation"
   ]
  },
  {
   "cell_type": "code",
   "execution_count": 18,
   "id": "7fe32b91-127e-4394-99b7-cae4ed0a7108",
   "metadata": {},
   "outputs": [
    {
     "name": "stdout",
     "output_type": "stream",
     "text": [
      "Dataset length:  11541\n"
     ]
    }
   ],
   "source": [
    "# create dataset\n",
    "dataset = torch.utils.data.TensorDataset(\n",
    "    torch.tensor(training_normalized_comments, dtype=torch.int).to(device),\n",
    "    torch.tensor(filtered_classes, dtype=torch.float).to(device)\n",
    ")\n",
    "print('Dataset length: ', len(dataset))"
   ]
  },
  {
   "cell_type": "code",
   "execution_count": 19,
   "id": "b087681c-ad04-4f67-8721-d42f347bb2c9",
   "metadata": {},
   "outputs": [
    {
     "data": {
      "text/plain": [
       "(tensor([  0,   0,   0,   0,   0,   0,   0,   0,   0,   0,   0,   0,   0,   0,\n",
       "           0,   0,   0,   0,   0,   0,   1, 348, 349, 195, 327,   8, 220, 350,\n",
       "          39,  69,  70, 219, 351, 259,  75, 159], device='mps:0',\n",
       "        dtype=torch.int32),\n",
       " tensor([0., 1.], device='mps:0'))"
      ]
     },
     "execution_count": 19,
     "metadata": {},
     "output_type": "execute_result"
    }
   ],
   "source": [
    "dataset[40]"
   ]
  },
  {
   "cell_type": "code",
   "execution_count": 20,
   "id": "cf81688b-2753-4e61-9566-15714d8e5bd8",
   "metadata": {},
   "outputs": [
    {
     "name": "stdout",
     "output_type": "stream",
     "text": [
      "Training dataset - 9232 indices\n",
      "Validation dataset - 2309 indices\n",
      "Total: 11541 items\n"
     ]
    }
   ],
   "source": [
    "# settings\n",
    "training_split_ratio = 0.8\n",
    "\n",
    "# split comments\n",
    "torch.manual_seed(200)   # pseudo random values (debug only)\n",
    "\n",
    "input_size = len(dataset)\n",
    "train_size = int(training_split_ratio * input_size)\n",
    "test_size = input_size - train_size\n",
    "\n",
    "training_dataset_subset, validation_dataset_subset = torch.utils.data.random_split(dataset, [train_size, test_size])\n",
    "\n",
    "print(\"Training dataset - {} indices\".format(len(training_dataset_subset)))\n",
    "print(\"Validation dataset - {} indices\".format(len(validation_dataset_subset)))\n",
    "print(\"Total: {} items\".format(input_size))"
   ]
  },
  {
   "cell_type": "code",
   "execution_count": 21,
   "id": "fd010b44-9b22-40a6-92d5-9f990645022f",
   "metadata": {},
   "outputs": [
    {
     "data": {
      "image/png": "[encoded data removed]",
      "text/plain": [
       "<Figure size 640x480 with 1 Axes>"
      ]
     },
     "metadata": {},
     "output_type": "display_data"
    },
    {
     "data": {
      "image/png": "[encoded data removed]",
      "text/plain": [
       "<Figure size 640x480 with 1 Axes>"
      ]
     },
     "metadata": {},
     "output_type": "display_data"
    }
   ],
   "source": [
    "# let's visualize our datasets\n",
    "def get_sentiment_class(dataset):\n",
    "    counter = Counter()\n",
    "\n",
    "    for i, (c,s) in enumerate(dataset):\n",
    "        class_index = int((s.cpu() == 1).nonzero().squeeze())\n",
    "        counter.update([classes_index_to_name[class_index]])\n",
    "\n",
    "    return counter\n",
    "\n",
    "training_dataset_statistics = get_sentiment_class(training_dataset_subset)\n",
    "validation_dataset_statistics = get_sentiment_class(validation_dataset_subset)\n",
    "\n",
    "plt.bar(training_dataset_statistics.keys(), training_dataset_statistics.values())\n",
    "plt.title(\"Training dataset\")\n",
    "plt.show()\n",
    "\n",
    "plt.bar(validation_dataset_statistics.keys(), validation_dataset_statistics.values())\n",
    "plt.title(\"Validation dataset\")\n",
    "plt.show()"
   ]
  },
  {
   "cell_type": "code",
   "execution_count": 22,
   "id": "d5e2ca8b-e3c1-43c0-ad44-fed21c8b0de9",
   "metadata": {},
   "outputs": [
    {
     "name": "stdout",
     "output_type": "stream",
     "text": [
      "Batch size is: 1\n",
      "\n",
      "Training dataset comments: tensor([[   0,    0,    0,    0,    0,    0,    0,    0,    0,    0,    0,    0,\n",
      "            0,    0,    0,    0,    0,    0,  759, 1953,   80,   81,    3, 1954,\n",
      "          350,   28,  198,   75,   29, 1955,  549, 1487, 1871,   24,   64, 1097]],\n",
      "       device='mps:0', dtype=torch.int32)\n",
      "Training dataset classes: tensor([[1., 0.]], device='mps:0')\n",
      "\n",
      "Validation dataset comments: tensor([[  0,   0,   0,   0,   0,   0,   0,   0,   0,   0,   0,   0,   0,   0,\n",
      "           0,   0,   0,   0,   0,   0,   0,   0,   0,   0,   0,   0,   0,   0,\n",
      "         407, 172,  20, 269, 422, 325, 325, 325]], device='mps:0',\n",
      "       dtype=torch.int32)\n",
      "Validation dataset classes: tensor([[0., 1.]], device='mps:0')\n"
     ]
    }
   ],
   "source": [
    "# split data into chunks\n",
    "batch_size = 1\n",
    "print('Batch size is: {}\\n'.format(batch_size))\n",
    "\n",
    "# training dataset\n",
    "training_dataloader = torch.utils.data.DataLoader(training_dataset_subset, shuffle=False, batch_size=batch_size)\n",
    "for i, (c,s) in enumerate(training_dataloader):\n",
    "    print('Training dataset comments:', c)\n",
    "    print('Training dataset classes:', s)\n",
    "    break\n",
    "\n",
    "print()\n",
    "\n",
    "# validation dataset\n",
    "validation_dataloader = torch.utils.data.DataLoader(validation_dataset_subset, shuffle=False, batch_size=batch_size)\n",
    "for i, (c,s) in enumerate(validation_dataloader):\n",
    "    print('Validation dataset comments:', c)\n",
    "    print('Validation dataset classes:', s)\n",
    "    break"
   ]
  },
  {
   "cell_type": "markdown",
   "id": "8ad223cd-4428-4d27-a8af-fd1fbbe4b81f",
   "metadata": {},
   "source": [
    "## Training"
   ]
  },
  {
   "cell_type": "markdown",
   "id": "a7e5196b-dbd0-444b-9d78-089ce4a6f2b0",
   "metadata": {},
   "source": [
    "Awesome! Let's create our model and train it"
   ]
  },
  {
   "cell_type": "code",
   "execution_count": 23,
   "id": "1a0ee46f-adcc-4f7a-bdec-0d4ac17c57b1",
   "metadata": {},
   "outputs": [],
   "source": [
    "# model\n",
    "class SentimentModel(torch.nn.Module):\n",
    "    _embedding_vector_size = 1\n",
    "    \n",
    "    def __init__(self, dim_in, dim_out, vocabulary_size):\n",
    "        super().__init__()\n",
    "\n",
    "        self._dim_in = dim_in\n",
    "        self._dim_out = dim_out\n",
    "        self._vocabulary_size = vocabulary_size\n",
    "        \n",
    "        self.embedding = torch.nn.Embedding(vocabulary_size, self._embedding_vector_size)\n",
    "        self.linear = torch.nn.Linear(dim_in, dim_out)\n",
    "        \n",
    "    def forward(self, x):\n",
    "        x = self.embedding(x)\n",
    "        x = x.view(self._embedding_vector_size, self._dim_in)\n",
    "        x = self.linear(x)\n",
    "        \n",
    "        return x"
   ]
  },
  {
   "cell_type": "code",
   "execution_count": 24,
   "id": "68a28726-3f76-4040-93dd-8058797caa89",
   "metadata": {},
   "outputs": [
    {
     "data": {
      "text/plain": [
       "SentimentModel(\n",
       "  (embedding): Embedding(12680, 1)\n",
       "  (linear): Linear(in_features=36, out_features=2, bias=True)\n",
       ")"
      ]
     },
     "execution_count": 24,
     "metadata": {},
     "output_type": "execute_result"
    }
   ],
   "source": [
    "# let's create a model\n",
    "dim_in, dim_out = vector_size, total_classes\n",
    "\n",
    "model = SentimentModel(\n",
    "    dim_in=dim_in,\n",
    "    dim_out=dim_out,\n",
    "    vocabulary_size=vocabulary_size\n",
    ")\n",
    "model.to(device)"
   ]
  },
  {
   "cell_type": "code",
   "execution_count": 25,
   "id": "0022005f-9ebc-4547-8437-1e49ea728dbe",
   "metadata": {},
   "outputs": [],
   "source": [
    "# settings\n",
    "rate_learning = 0.001\n",
    "max_iterations = 5\n",
    "early_stop_loss = 0.0001\n",
    "early_stop_max_count = -1\n",
    "\n",
    "# training\n",
    "def train(model, training_dataloader, validation_dataloader):\n",
    "    # returns an amount of matched and not matched items\n",
    "    # example:\n",
    "    #   calculate_step_accuracy(\n",
    "    #       predicted=torch.tensor([[-0.35,  0.87], [0.35,  0.87], [0,  1]]),\n",
    "    #       expected=torch.tensor([[1., 0.], [0., 1.], [1., 0.]])\n",
    "    #   )\n",
    "    #\n",
    "    #   passed - 1, failed - 2\n",
    "    def calculate_accuracy(predicted, expected):\n",
    "        passed = int(torch.sum(torch.argmax(predicted, dim=1) == torch.argmax(expected, dim=1)))\n",
    "        failed = len(predicted) - passed\n",
    "    \n",
    "        return (passed, failed)\n",
    "\n",
    "    # training loop\n",
    "    def evaluate(dataloader, label='', isTraining=True):\n",
    "        with tqdm(total=len(dataloader), desc=label,\n",
    "                  bar_format='{desc}{percentage:3.0f}%|{bar:10}{r_bar}', leave=False) as progress:\n",
    "            # batches\n",
    "            passed, failed = 0, 0\n",
    "            for i, (input, expected) in enumerate(dataloader):\n",
    "                # predict model\n",
    "                predicted = model(input)\n",
    "                loss = loss_fn(predicted, expected)\n",
    "                \n",
    "                # back propagation\n",
    "                if isTraining:\n",
    "                    optimizer.zero_grad()\n",
    "                    loss.backward()\n",
    "                    optimizer.step()\n",
    "    \n",
    "                # accuracy\n",
    "                (local_passed, local_failed) = calculate_accuracy(predicted, expected)\n",
    "                \n",
    "                passed = passed + local_passed\n",
    "                failed = failed + local_failed\n",
    "                accuracy = passed / (passed + failed)\n",
    "\n",
    "                # progress bar\n",
    "                progress.update(1)\n",
    "                progress.set_postfix_str('loss={:.6f}, acc={:.4f}'.format(loss.item(), accuracy))\n",
    "\n",
    "        return (loss, accuracy)\n",
    "\n",
    "    # optimizer and loss\n",
    "    optimizer = torch.optim.Adam(model.parameters(), lr=rate_learning)\n",
    "    loss_fn = torch.nn.CrossEntropyLoss()\n",
    "    \n",
    "    # dynamic params\n",
    "    best_training_loss = None\n",
    "    early_stop = early_stop_max_count\n",
    "    statistics = []\n",
    "\n",
    "    # epochs\n",
    "    for epoch in range(1, max_iterations):\n",
    "        # training\n",
    "        (training_loss, training_acc) = evaluate(\n",
    "            training_dataloader,\n",
    "            label='Training {}/{}'.format(epoch, max_iterations),\n",
    "            isTraining=True\n",
    "        )\n",
    "        \n",
    "\n",
    "        # validation\n",
    "        (validation_loss, validation_acc) = evaluate(\n",
    "            validation_dataloader,\n",
    "            label='Validation {}/{}'.format(epoch, max_iterations),\n",
    "            isTraining=False\n",
    "        )\n",
    "\n",
    "        # update statistics\n",
    "        statistics.append((training_acc, validation_acc))\n",
    "    \n",
    "        # check for early stop\n",
    "        if early_stop_max_count > 0:\n",
    "            need_to_stop = (best_training_loss is not None) and \\\n",
    "                           ((training_loss < best_training_loss) or abs(training_loss - best_training_loss) <= early_stop_loss)\n",
    "            \n",
    "            if need_to_stop:\n",
    "                early_stop = early_stop - 1\n",
    "                if early_stop <= 0:\n",
    "                    print('Early stop. Previous loss {:.10f}, current loss {:.10f}:'.format(previous_loss, loss.item()))\n",
    "                    break\n",
    "            else:\n",
    "                early_stop = early_stop_max_count\n",
    "\n",
    "        best_training_loss = training_loss if best_training_loss is None else min(best_training_loss, training_loss)\n",
    "\n",
    "    return (statistics)"
   ]
  },
  {
   "cell_type": "code",
   "execution_count": 26,
   "id": "9a63461f-7c5a-40be-a2d2-791d8ce8a284",
   "metadata": {},
   "outputs": [
    {
     "name": "stderr",
     "output_type": "stream",
     "text": [
      "                                                                                             \r"
     ]
    }
   ],
   "source": [
    "# train model\n",
    "(statistics) = train(model, training_dataloader, validation_dataloader)"
   ]
  },
  {
   "cell_type": "code",
   "execution_count": 27,
   "id": "2723617e-4d6d-4b4f-abfd-3d5a0dd43998",
   "metadata": {},
   "outputs": [
    {
     "data": {
      "image/png": "[encoded data removed]",
      "text/plain": [
       "<Figure size 640x480 with 1 Axes>"
      ]
     },
     "metadata": {},
     "output_type": "display_data"
    }
   ],
   "source": [
    "# display training process\n",
    "[training_statistics, validation_statistics] = list(zip(*statistics))\n",
    "\n",
    "plt.plot(range(len(training_statistics)), list(training_statistics), label='training accuracy')\n",
    "plt.plot(range(len(validation_statistics)), list(validation_statistics), label='validation accuracy')\n",
    "plt.legend()\n",
    "plt.show()"
   ]
  },
  {
   "cell_type": "markdown",
   "id": "1119b87a-0e5f-4330-9c6c-c83eaf125ab9",
   "metadata": {},
   "source": [
    "## Testing"
   ]
  },
  {
   "cell_type": "markdown",
   "id": "36022d39-8450-4b36-a145-f5a3b3a3ed1a",
   "metadata": {},
   "source": [
    "Let's try our model. To do so we can create two functions:\n",
    "* the first one to calculate model's accuracy. It will basically evaluate each text message in a dataset and compare it with the expected value. As a result, we'll know the model's accuracy\n",
    "* the second function which can be used to evaluate any random text expression even if id didn't exist in the sample dataset "
   ]
  },
  {
   "cell_type": "code",
   "execution_count": 28,
   "id": "824fc488-5729-4cd1-8657-2e80bc4c7784",
   "metadata": {},
   "outputs": [
    {
     "name": "stderr",
     "output_type": "stream",
     "text": [
      "100%|██████████| 2309/2309 [00:02<00:00, 961.78it/s] \n"
     ]
    },
    {
     "data": {
      "text/plain": [
       "(2043, 266, 0.8847986141186661)"
      ]
     },
     "execution_count": 28,
     "metadata": {},
     "output_type": "execute_result"
    }
   ],
   "source": [
    "def evaluate(model, dataloader):\n",
    "    passed, failed = 0, 0\n",
    "    \n",
    "    with tqdm(total=len(dataloader),\n",
    "                  bar_format='{desc}{percentage:3.0f}%|{bar:10}{r_bar}') as progress:\n",
    "        for i, (input,expected) in enumerate(dataloader):\n",
    "            predicted = model(input)\n",
    "    \n",
    "            local_passed = int(torch.sum(torch.argmax(predicted, dim=1) == torch.argmax(expected, dim=1)))\n",
    "            local_failed = len(predicted) - local_passed\n",
    "\n",
    "            passed = passed + local_passed\n",
    "            failed = failed + local_failed\n",
    "\n",
    "            progress.update(1)\n",
    "\n",
    "    return (passed, failed, passed / (passed + failed))\n",
    "\n",
    "evaluate(model, validation_dataloader)"
   ]
  },
  {
   "cell_type": "code",
   "execution_count": 29,
   "id": "61892939-66fc-4a87-8ab1-44ec9a73fdb6",
   "metadata": {},
   "outputs": [
    {
     "name": "stdout",
     "output_type": "stream",
     "text": [
      "('Very good!', 'positive')\n",
      "('I like this!', 'positive')\n",
      "('This is terrible!', 'negative')\n",
      "(\"I don't like this!\", 'negative')\n"
     ]
    }
   ],
   "source": [
    "def evaluate_text(text):\n",
    "    tokens = normalize_tokens(\n",
    "        convert_tokens_into_numbers(vocabulary, tokenize([text])),\n",
    "        vector_size\n",
    "    )\n",
    "\n",
    "    tensor = torch.tensor(tokens).to(device)\n",
    "    \n",
    "    predicted = model(tensor)\n",
    "\n",
    "    class_index = int(torch.argmax(predicted))\n",
    "    return (text, classes_index_to_name[class_index])\n",
    "\n",
    "print(evaluate_text('Very good!'))\n",
    "print(evaluate_text('I like this!'))\n",
    "print(evaluate_text('This is terrible!'))\n",
    "print(evaluate_text('I don\\'t like this!'))"
   ]
  }
 ],
 "metadata": {
  "kernelspec": {
   "display_name": "Python 3 (ipykernel)",
   "language": "python",
   "name": "python3"
  },
  "language_info": {
   "codemirror_mode": {
    "name": "ipython",
    "version": 3
   },
   "file_extension": ".py",
   "mimetype": "text/x-python",
   "name": "python",
   "nbconvert_exporter": "python",
   "pygments_lexer": "ipython3",
   "version": "3.11.5"
  }
 },
 "nbformat": 4,
 "nbformat_minor": 5
}
